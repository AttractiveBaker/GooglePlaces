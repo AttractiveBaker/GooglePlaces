{
 "cells": [
  {
   "cell_type": "code",
   "execution_count": 23,
   "metadata": {},
   "outputs": [],
   "source": [
    "import requests\n",
    "import pandas as pd\n",
    "\n",
    "API_KEY = \"YOUR_API_KEY\"\n",
    "\n",
    "# Function to get places within a radius from a given lat/lng for multiple place types\n",
    "def get_places_nearby_multiple_types(lat, lng, radius=1609, place_types=None):\n",
    "    \"\"\"\n",
    "    Get places of multiple types within a radius from a given lat/lng.\n",
    "    :param lat: Latitude of the dropped pin\n",
    "    :param lng: Longitude of the dropped pin\n",
    "    :param radius: Radius in meters (default is 1 mile which is ~1609 meters)\n",
    "    :param place_types: List of place types to search (e.g., ['business', 'restaurant', etc.])\n",
    "    :return: List of places with details\n",
    "    \"\"\"\n",
    "    if place_types is None:\n",
    "        place_types = ['business']  # Default place type if none provided\n",
    "\n",
    "    endpoint_url = \"https://maps.googleapis.com/maps/api/place/nearbysearch/json\"\n",
    "    all_places = []\n",
    "\n",
    "    for place_type in place_types:\n",
    "        params = {\n",
    "            'location': f'{lat},{lng}',\n",
    "            'radius': radius,\n",
    "            'type': place_type,\n",
    "            'key': API_KEY\n",
    "        }\n",
    "\n",
    "        while True:\n",
    "            response = requests.get(endpoint_url, params=params)\n",
    "            if response.status_code == 200:\n",
    "                places_data = response.json()\n",
    "                if 'results' in places_data:\n",
    "                    for place in places_data['results']:\n",
    "                        place_info = {\n",
    "                            'name': place.get('name'),\n",
    "                            'address': place.get('vicinity'),\n",
    "                            'location': place.get('geometry', {}).get('location'),\n",
    "                            'rating': place.get('rating', 'N/A'),\n",
    "                            'user_ratings_total': place.get('user_ratings_total', 'N/A'),\n",
    "                            'place_id': place.get('place_id'),\n",
    "                            'type': place_type\n",
    "                        }\n",
    "                        all_places.append(place_info)\n",
    "                if 'next_page_token' in places_data:\n",
    "                    params['pagetoken'] = places_data['next_page_token']\n",
    "                    # Google API requires a short delay before using the next_page_token\n",
    "                    import time\n",
    "                    time.sleep(2)\n",
    "                else:\n",
    "                    break\n",
    "            else:\n",
    "                print(f\"Error for place type '{place_type}': {response.status_code}\")\n",
    "                break\n",
    "\n",
    "    return all_places\n",
    "\n",
    "# Function to get all possible place types supported by the Google Places API\n",
    "def get_all_possible_place_types():\n",
    "    return [\n",
    "        \"accounting\", \"airport\", \"amusement_park\", \"aquarium\", \"art_gallery\", \"atm\", \"bakery\", \"bank\", \"bar\",\n",
    "        \"beauty_salon\", \"bicycle_store\", \"book_store\", \"bowling_alley\", \"bus_station\", \"cafe\", \"campground\", \"car_dealer\",\n",
    "        \"car_rental\", \"car_repair\", \"car_wash\", \"casino\", \"cemetery\", \"church\", \"city_hall\", \"clothing_store\",\n",
    "        \"convenience_store\", \"courthouse\", \"dentist\", \"department_store\", \"doctor\", \"electrician\", \"electronics_store\",\n",
    "        \"embassy\", \"fire_station\", \"florist\", \"funeral_home\", \"furniture_store\", \"gas_station\", \"gym\", \"hair_care\",\n",
    "        \"hardware_store\", \"hindu_temple\", \"home_goods_store\", \"hospital\", \"insurance_agency\", \"jewelry_store\", \"laundry\",\n",
    "        \"lawyer\", \"library\", \"light_rail_station\", \"liquor_store\", \"local_government_office\", \"locksmith\", \"lodging\",\n",
    "        \"meal_delivery\", \"meal_takeaway\", \"mosque\", \"movie_rental\", \"movie_theater\", \"moving_company\", \"museum\",\n",
    "        \"night_club\", \"painter\", \"park\", \"parking\", \"pet_store\", \"pharmacy\", \"physiotherapist\", \"plumber\", \"police\",\n",
    "        \"post_office\", \"primary_school\", \"real_estate_agency\", \"restaurant\", \"roofing_contractor\", \"rv_park\",\n",
    "        \"school\", \"secondary_school\", \"shoe_store\", \"shopping_mall\", \"spa\", \"stadium\", \"storage\", \"store\",\n",
    "        \"subway_station\", \"supermarket\", \"synagogue\", \"taxi_stand\", \"tourist_attraction\", \"train_station\",\n",
    "        \"transit_station\", \"travel_agency\", \"university\", \"veterinary_care\", \"zoo\"\n",
    "    ]\n",
    "\n"
   ]
  },
  {
   "cell_type": "code",
   "execution_count": 24,
   "metadata": {},
   "outputs": [],
   "source": [
    "# Example usage: Replace lat, lng with your dropped pin coordinates\n",
    "latitude = 40.748817  # Example: Latitude of the dropped pin (e.g., Empire State Building)\n",
    "longitude = -73.985428  # Example: Longitude of the dropped pin\n",
    "radius_meters = 750  # 1 mile = 1609 meters\n",
    "place_types = ['restaurant', 'park', 'cafe']  # You can add multiple place types\n",
    "\n",
    "places = get_places_nearby_multiple_types(latitude, longitude, radius_meters, place_types)"
   ]
  },
  {
   "cell_type": "code",
   "execution_count": null,
   "metadata": {},
   "outputs": [],
   "source": [
    "places_df = pd.DataFrame(places)\n",
    "places_df"
   ]
  },
  {
   "cell_type": "code",
   "execution_count": null,
   "metadata": {},
   "outputs": [],
   "source": [
    "places_df.to_csv('places.csv', index=False)"
   ]
  }
 ],
 "metadata": {
  "kernelspec": {
   "display_name": "Python 3",
   "language": "python",
   "name": "python3"
  },
  "language_info": {
   "codemirror_mode": {
    "name": "ipython",
    "version": 3
   },
   "file_extension": ".py",
   "mimetype": "text/x-python",
   "name": "python",
   "nbconvert_exporter": "python",
   "pygments_lexer": "ipython3",
   "version": "3.12.2"
  }
 },
 "nbformat": 4,
 "nbformat_minor": 2
}
